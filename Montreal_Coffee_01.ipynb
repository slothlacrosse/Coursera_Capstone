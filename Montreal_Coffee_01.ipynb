{
    "cells": [
        {
            "cell_type": "markdown",
            "metadata": {
                "collapsed": true
            },
            "source": "<b>Introduction/Business Problem:</b>\n<br>Montreal is a city covering 431.5 km^2 (166.6 mi^2) with approx. 1.8M inhabitants residing in 21 boroughs."
        },
        {
            "cell_type": "markdown",
            "metadata": {},
            "source": "The City of Saints is visited by over 2M people each year; making it Canada's most visited city. With so much to see and do, I'm going to need a cup of coffee!"
        },
        {
            "cell_type": "markdown",
            "metadata": {},
            "source": "With that in mind, I'm going to examine The City of 100 Steeples and see which neighborhoods will shelter and stimulate weary travelers."
        },
        {
            "cell_type": "markdown",
            "metadata": {},
            "source": "<b>Data:</b> \n<br>I will be using zipcode for metropolitan Montreal that is available on wikipedia. I will also be using venue name, location, and category information on Foursquare to identify neighborhoods that have accomodations for travelers (hotels/hostels/inns/etc) and coffee shops."
        },
        {
            "cell_type": "code",
            "execution_count": null,
            "metadata": {},
            "outputs": [],
            "source": "#putting tools in the toolbox\nimport pandas as pd\nimport numpy as np\nimport requests\nfrom bs4 import BeautifulSoup\nfrom bs4.element import Comment\nimport urllib.request\nimport os\nfrom sklearn.cluster import KMeans\nfrom geopy.geocoders import Nominatim \nimport matplotlib.cm as cm\nimport matplotlib.colors as colors\n!pip -q install folium\nimport folium\nprint('Done')"
        },
        {
            "cell_type": "code",
            "execution_count": null,
            "metadata": {},
            "outputs": [],
            "source": "#linking our postal code and neighborhood data\nlist_url=\"https://en.wikipedia.org/wiki/List_of_postal_codes_of_Canada:_H\"\nsource=requests.get(list_url).text\n#print(source)"
        },
        {
            "cell_type": "code",
            "execution_count": null,
            "metadata": {},
            "outputs": [],
            "source": "#looking for patterns in the source code\nsoup=BeautifulSoup(source)\n#print(soup.prettify())"
        },
        {
            "cell_type": "code",
            "execution_count": null,
            "metadata": {},
            "outputs": [],
            "source": "#seperating postal code and neighborhood data from the rest of the page\n#codes=soup.find_all('td',attrs={'valign':'top'})\n#for code in codes:\n#    print(code)\ncode_body=soup.find('tbody')\n#code_body"
        },
        {
            "cell_type": "code",
            "execution_count": null,
            "metadata": {},
            "outputs": [],
            "source": "#making a list of postal codes\npostal_codes=code_body.find_all('b')\n#postal_codes\ncode_list=[]\nfor p in postal_codes[0:]:\n    result=p.text.strip()\n    code_list.append(result)\n#(code_list)"
        },
        {
            "cell_type": "code",
            "execution_count": null,
            "metadata": {},
            "outputs": [],
            "source": "len(code_list)"
        },
        {
            "cell_type": "code",
            "execution_count": null,
            "metadata": {},
            "outputs": [],
            "source": "#making a list of neighborhoods\nneighborhoods=code_body.find_all('span')\n#print(neighborhoods)\nngh_list=[]\nfor n in neighborhoods[0:]:\n    ngh_results=n.text.strip()\n    ngh_list.append(ngh_results)\n#print(ngh_list)"
        },
        {
            "cell_type": "code",
            "execution_count": null,
            "metadata": {},
            "outputs": [],
            "source": "len(ngh_list)"
        },
        {
            "cell_type": "code",
            "execution_count": null,
            "metadata": {},
            "outputs": [],
            "source": "#create data frame with postal codes and neighborhoods\nmtl_ngh=pd.DataFrame({'Postalcode':code_list,'Neighborhood':ngh_list})\nmtl_ngh.head()"
        },
        {
            "cell_type": "code",
            "execution_count": null,
            "metadata": {},
            "outputs": [],
            "source": "#remove postal codes that are not assigned\nmtl_ngh=mtl_ngh[mtl_ngh['Neighborhood']!='Not assigned']\nprint(mtl_ngh.head())\nlen(mtl_ngh)"
        },
        {
            "cell_type": "code",
            "execution_count": null,
            "metadata": {},
            "outputs": [],
            "source": "mtl_temp=mtl_ngh.groupby('Postalcode')['Neighborhood'].apply(lambda x: \"%s\" % ', '.join(x))\nmtl_temp=mtl_temp.reset_index(drop=False)\nmtl_temp.rename(columns={'Neighborhood':'Neighborhood_joined'},inplace=True)\nmtl_temp=mtl_temp[mtl_temp['Neighborhood_joined']!='Reserved0H0: Santa Claus']\nprint(mtl_temp.head())\nlen(mtl_temp)"
        },
        {
            "cell_type": "code",
            "execution_count": null,
            "metadata": {},
            "outputs": [],
            "source": "mtl_merge=pd.merge(mtl_ngh,mtl_temp,on='Postalcode')\nmtl_merge.drop(['Neighborhood'],axis=1,inplace=True)\nmtl_merge.drop_duplicates(inplace=True)\nmtl_merge.rename(columns={'Neighborhood_joined':'Neighborhood'},inplace=True)\nprint(mtl_merge.head())\nlen(mtl_merge)"
        },
        {
            "cell_type": "code",
            "execution_count": null,
            "metadata": {},
            "outputs": [],
            "source": "mtl_merge=pd.DataFrame(mtl_merge)\nmtl_merge.head()"
        },
        {
            "cell_type": "markdown",
            "metadata": {},
            "source": "def get_geocode(postal_code):\n    lat_lng_coord = None\n    while(lat_lng_coord is None):\n        m = geocoder.google('{}, Montreal, Quebec'.format(postal_code))\n        lat_lng_coords = m.latlng\n    mtl_latitude = lat_lng_coords[0]\n    mtl_longitude = lat_lng_coords[1]\n    return mtl_latitude,mtl_longitude\n#print('Done')\nmtl_geo=pd.read_csv('http://cocl.us/Geospatial_data')\nmtl_geo.head()"
        },
        {
            "cell_type": "code",
            "execution_count": null,
            "metadata": {},
            "outputs": [],
            "source": "!pip install pgeocode\nprint('Done')"
        },
        {
            "cell_type": "code",
            "execution_count": null,
            "metadata": {},
            "outputs": [],
            "source": "import pgeocode\nprint('Done')"
        },
        {
            "cell_type": "code",
            "execution_count": null,
            "metadata": {},
            "outputs": [],
            "source": "nomi=pgeocode.Nominatim('ca')\nmtl_dirty_geo=nomi.query_postal_code(code_list)\nmtl_dirty_geo"
        },
        {
            "cell_type": "code",
            "execution_count": null,
            "metadata": {},
            "outputs": [],
            "source": "#let's clean up our data\nmtl_dirty_geo.rename(columns={'postal_code':'Postalcode','latitude':'Latitude','longitude':'Longitude'},inplace=True)\nmtl_geo_ngh=pd.merge(mtl_dirty_geo,mtl_merge,on='Postalcode')\n#mtl_geo_ngh.head()\nmtl_clean_geo=mtl_geo_ngh[['Postalcode','Neighborhood','Latitude','Longitude']]\nmtl_clean_geo.head()"
        },
        {
            "cell_type": "code",
            "execution_count": null,
            "metadata": {},
            "outputs": [],
            "source": "CLIENT_ID = 'MOPQ4QFVYDGEMYB3HYP53QUGJVSFDXOGYGZJHEUKL4UHCVQ0'\nCLIENT_SECRET = '0XMDVSZWEROJPZ0K2E14QH0IWMUMBUYBFP3KTSPGTUEUN0ZF'\nVERSION = '20180604'"
        },
        {
            "cell_type": "markdown",
            "metadata": {},
            "source": "def NearbyVenues(names, latitudes, longitudes):\n    radius=500\n    LIMIT=100\n    venues_list=[]\n    for name, lat, lng in zip(names, latitudes, longitudes):\n        print(name)\n            \n        url = 'https://api.foursquare.com/v2/venues/explore?&client_id={}&client_secret={}&v={}&ll={},{}&radius={}&limit={}'.format(\n            CLIENT_ID, \n            CLIENT_SECRET, \n            VERSION, \n            lat, \n            lng, \n            radius, \n            LIMIT)\n            \n        results = requests.get(url).json()[\"response\"]['groups'][0]['items']\n        \n        venues_list.append([(\n            name, \n            lat, \n            lng, \n            v['venue']['name'], \n            v['venue']['location']['lat'], \n            v['venue']['location']['lng'],  \n            v['venue']['categories'][0]['name']) for v in results])\n\n    nearby_venues = pd.DataFrame([item for venue_list in venues_list for item in venue_list])\n    nearby_venues.columns = ['Neighborhood', \n                  'Neighborhood Latitude', \n                  'Neighborhood Longitude', \n                  'Venue', \n                  'Venue Latitude', \n                  'Venue Longitude', \n                  'Venue Category']\n    \n    return(nearby_venues)\nprint('done')"
        },
        {
            "cell_type": "markdown",
            "metadata": {},
            "source": "venues=NearbyVenues(names=mtl_clean_geo['Neighborhood'],\n                   latitudes=mtl_clean_geo['Latitude'],\n                   longitudes=mtl_clean_geo['Longitude']\n                   )\nprint('Done')"
        },
        {
            "cell_type": "markdown",
            "metadata": {},
            "source": "names=NearbyVenues(names=mtl_clean_geo['Neighborhood'],\n                   latitudes=mtl_clean_geo['Latitude'],\n                   longitudes=mtl_clean_geo['Longitude']\n                   )\nexcept Exception as e:\n    print(names + ' has an error')\n    \nprint('Done')"
        },
        {
            "cell_type": "code",
            "execution_count": null,
            "metadata": {},
            "outputs": [],
            "source": "def NearbyVenues(names, latitudes, longitudes):\n    radius=500\n    LIMIT=100\n    venues_list=[]\n    for name, lat, lng in zip(names, latitudes, longitudes):\n        print(name)\n            \n        url = 'https://api.foursquare.com/v2/venues/explore?&client_id={}&client_secret={}&v={}&ll={},{}&radius={}&limit={}'.format(\n            CLIENT_ID, \n            CLIENT_SECRET, \n            VERSION, \n            lat, \n            lng, \n            radius, \n            LIMIT)\n            \n        results = requests.get(url).json()[\"response\"]['groups'][0]['items']\n        \n        venues_list.append([(\n            name, \n            lat, \n            lng, \n            v['venue']['name'], \n            v['venue']['location']['lat'], \n            v['venue']['location']['lng'],  \n            v['venue']['categories'][0]['name']) for v in results])\n\n    nearby_venues = pd.DataFrame([item for venue_list in venues_list for item in venue_list])\n    nearby_venues.columns = ['Neighborhood', \n                  'Neighborhood Latitude', \n                  'Neighborhood Longitude', \n                  'Venue', \n                  'Venue Latitude', \n                  'Venue Longitude', \n                  'Venue Category']\n    \n    return(nearby_venues)\n    except Exception as e:\n        print(nearby_venues+'has an error')\nprint('done')"
        },
        {
            "cell_type": "code",
            "execution_count": null,
            "metadata": {},
            "outputs": [],
            "source": ""
        }
    ],
    "metadata": {
        "kernelspec": {
            "display_name": "Python 3.6",
            "language": "python",
            "name": "python3"
        },
        "language_info": {
            "codemirror_mode": {
                "name": "ipython",
                "version": 3
            },
            "file_extension": ".py",
            "mimetype": "text/x-python",
            "name": "python",
            "nbconvert_exporter": "python",
            "pygments_lexer": "ipython3",
            "version": "3.6.9"
        }
    },
    "nbformat": 4,
    "nbformat_minor": 1
}