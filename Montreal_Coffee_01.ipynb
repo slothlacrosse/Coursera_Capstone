{
    "cells": [
        {
            "cell_type": "markdown",
            "metadata": {
                "collapsed": true
            },
            "source": "<b>Introduction/Business Problem:</b>\n<br>Montreal is a city covering 431.5 km^2 (166.6 mi^2) with approx. 1.8M inhabitants residing in 21 boroughs."
        },
        {
            "cell_type": "markdown",
            "metadata": {},
            "source": "The City of Saints is visited by over 2M people each year; making it Canada's most visited city. With so much to see and do, I'm going to need a cup of coffee!"
        },
        {
            "cell_type": "markdown",
            "metadata": {},
            "source": "With that in mind, I'm going to examine The City of 100 Steeples and see which neighborhoods will shelter and stimulate weary travelers."
        },
        {
            "cell_type": "markdown",
            "metadata": {},
            "source": "<b>Data:</b> \n<br>I will be using zipcode for metropolitan Montreal that is available on wikipedia. I will also be using venue name, location, and category information on Foursquare to identify neighborhoods that have accomodations for travelers (hotels/hostels/inns/etc) and coffee shops."
        },
        {
            "cell_type": "code",
            "execution_count": 179,
            "metadata": {},
            "outputs": [
                {
                    "name": "stdout",
                    "output_type": "stream",
                    "text": "Done\n"
                }
            ],
            "source": "#putting tools in the toolbox\nimport pandas as pd\nimport numpy as np\nimport requests as re\nfrom bs4 import BeautifulSoup\nfrom bs4.element import Comment\nimport urllib.request\nimport os\nfrom sklearn.cluster import KMeans\nfrom geopy.geocoders import Nominatim \nimport matplotlib.cm as cm\nimport matplotlib.colors as colors\n!pip -q install folium\nimport folium\nprint('Done')"
        },
        {
            "cell_type": "code",
            "execution_count": 180,
            "metadata": {},
            "outputs": [],
            "source": "#linking our postal code and neighborhood data\nzipcode_url=\"https://en.wikipedia.org/wiki/List_of_postal_codes_of_Canada:_H\"\nsource=requests.get(list_url).text\n#print(source)"
        },
        {
            "cell_type": "code",
            "execution_count": 181,
            "metadata": {},
            "outputs": [],
            "source": "#looking for patterns in the source code\nsoup=BeautifulSoup(source)\n#print(soup.prettify())"
        },
        {
            "cell_type": "code",
            "execution_count": 182,
            "metadata": {},
            "outputs": [],
            "source": "#seperating postal code and neighborhood data from the rest of the page\n#codes=soup.find_all('td',attrs={'valign':'top'})\n#for code in codes:\n#    print(code)\ncode_body=soup.find('tbody')\n#code_body"
        },
        {
            "cell_type": "code",
            "execution_count": 208,
            "metadata": {},
            "outputs": [],
            "source": "#making a list of postal codes\npostal_codes=code_body.find_all('b')\n#postal_codes\ncode_list=[]\nfor p in postal_codes[0:]:\n    result=p.text.strip()\n    code_list.append(result)\n#(code_list)"
        },
        {
            "cell_type": "code",
            "execution_count": 184,
            "metadata": {},
            "outputs": [
                {
                    "data": {
                        "text/plain": "181"
                    },
                    "execution_count": 184,
                    "metadata": {},
                    "output_type": "execute_result"
                }
            ],
            "source": "len(code_list)"
        },
        {
            "cell_type": "code",
            "execution_count": 185,
            "metadata": {},
            "outputs": [],
            "source": "#making a list of neighborhoods\nneighborhoods=code_body.find_all('span')\n#print(neighborhoods)\nngh_list=[]\nfor n in neighborhoods[0:]:\n    ngh_results=n.text.strip()\n    ngh_list.append(ngh_results)\n#print(ngh_list)"
        },
        {
            "cell_type": "code",
            "execution_count": 186,
            "metadata": {},
            "outputs": [
                {
                    "data": {
                        "text/plain": "181"
                    },
                    "execution_count": 186,
                    "metadata": {},
                    "output_type": "execute_result"
                }
            ],
            "source": "len(ngh_list)"
        },
        {
            "cell_type": "code",
            "execution_count": 187,
            "metadata": {},
            "outputs": [
                {
                    "data": {
                        "text/html": "<div>\n<style scoped>\n    .dataframe tbody tr th:only-of-type {\n        vertical-align: middle;\n    }\n\n    .dataframe tbody tr th {\n        vertical-align: top;\n    }\n\n    .dataframe thead th {\n        text-align: right;\n    }\n</style>\n<table border=\"1\" class=\"dataframe\">\n  <thead>\n    <tr style=\"text-align: right;\">\n      <th></th>\n      <th>Postalcode</th>\n      <th>Neighborhood</th>\n    </tr>\n  </thead>\n  <tbody>\n    <tr>\n      <th>0</th>\n      <td>H0A,</td>\n      <td>Not assigned</td>\n    </tr>\n    <tr>\n      <th>1</th>\n      <td>H1A</td>\n      <td>Pointe-aux-Trembles</td>\n    </tr>\n    <tr>\n      <th>2</th>\n      <td>H2A</td>\n      <td>Saint-Michel,East</td>\n    </tr>\n    <tr>\n      <th>3</th>\n      <td>H3A</td>\n      <td>Downtown Montreal North(McGill University)</td>\n    </tr>\n    <tr>\n      <th>4</th>\n      <td>H4A</td>\n      <td>Notre-Dame-de-Gr\u00e2ceNortheast</td>\n    </tr>\n  </tbody>\n</table>\n</div>",
                        "text/plain": "  Postalcode                                Neighborhood\n0       H0A,                                Not assigned\n1        H1A                         Pointe-aux-Trembles\n2        H2A                           Saint-Michel,East\n3        H3A  Downtown Montreal North(McGill University)\n4        H4A                Notre-Dame-de-Gr\u00e2ceNortheast"
                    },
                    "execution_count": 187,
                    "metadata": {},
                    "output_type": "execute_result"
                }
            ],
            "source": "#create data frame with postal codes and neighborhoods\nmtl_ngh=pd.DataFrame({'Postalcode':code_list,'Neighborhood':ngh_list})\nmtl_ngh.head()"
        },
        {
            "cell_type": "code",
            "execution_count": 188,
            "metadata": {},
            "outputs": [
                {
                    "name": "stdout",
                    "output_type": "stream",
                    "text": "  Postalcode                                Neighborhood\n1        H1A                         Pointe-aux-Trembles\n2        H2A                           Saint-Michel,East\n3        H3A  Downtown Montreal North(McGill University)\n4        H4A                Notre-Dame-de-Gr\u00e2ceNortheast\n5        H5A                           Place Bonaventure\n"
                },
                {
                    "data": {
                        "text/plain": "124"
                    },
                    "execution_count": 188,
                    "metadata": {},
                    "output_type": "execute_result"
                }
            ],
            "source": "#remove postal codes that are not assigned\nmtl_ngh=mtl_ngh[mtl_ngh['Neighborhood']!='Not assigned']\nprint(mtl_ngh.head())\nlen(mtl_ngh)"
        },
        {
            "cell_type": "code",
            "execution_count": 189,
            "metadata": {},
            "outputs": [
                {
                    "name": "stdout",
                    "output_type": "stream",
                    "text": "  Postalcode Neighborhood_joined\n1        H0J           AnjouWest\n2        H0K           AnjouEast\n3        H0L        MercierNorth\n4        H0M         MercierWest\n5        H0N    MercierSoutheast\n"
                },
                {
                    "data": {
                        "text/plain": "123"
                    },
                    "execution_count": 189,
                    "metadata": {},
                    "output_type": "execute_result"
                }
            ],
            "source": "mtl_temp=mtl_ngh.groupby('Postalcode')['Neighborhood'].apply(lambda x: \"%s\" % ', '.join(x))\nmtl_temp=mtl_temp.reset_index(drop=False)\nmtl_temp.rename(columns={'Neighborhood':'Neighborhood_joined'},inplace=True)\nmtl_temp=mtl_temp[mtl_temp['Neighborhood_joined']!='Reserved0H0: Santa Claus']\nprint(mtl_temp.head())\nlen(mtl_temp)"
        },
        {
            "cell_type": "code",
            "execution_count": 192,
            "metadata": {},
            "outputs": [
                {
                    "name": "stdout",
                    "output_type": "stream",
                    "text": "  Postalcode                                Neighborhood\n0        H1A                         Pointe-aux-Trembles\n1        H2A                           Saint-Michel,East\n2        H3A  Downtown Montreal North(McGill University)\n3        H4A                Notre-Dame-de-Gr\u00e2ceNortheast\n4        H5A                           Place Bonaventure\n"
                },
                {
                    "data": {
                        "text/plain": "123"
                    },
                    "execution_count": 192,
                    "metadata": {},
                    "output_type": "execute_result"
                }
            ],
            "source": "mtl_merge=pd.merge(mtl_ngh,mtl_temp,on='Postalcode')\nmtl_merge.drop(['Neighborhood'],axis=1,inplace=True)\nmtl_merge.drop_duplicates(inplace=True)\nmtl_merge.rename(columns={'Neighborhood_joined':'Neighborhood'},inplace=True)\nprint(mtl_merge.head())\nlen(mtl_merge)"
        },
        {
            "cell_type": "code",
            "execution_count": null,
            "metadata": {},
            "outputs": [],
            "source": ""
        },
        {
            "cell_type": "code",
            "execution_count": null,
            "metadata": {},
            "outputs": [],
            "source": ""
        },
        {
            "cell_type": "code",
            "execution_count": null,
            "metadata": {},
            "outputs": [],
            "source": ""
        }
    ],
    "metadata": {
        "kernelspec": {
            "display_name": "Python 3.6",
            "language": "python",
            "name": "python3"
        },
        "language_info": {
            "codemirror_mode": {
                "name": "ipython",
                "version": 3
            },
            "file_extension": ".py",
            "mimetype": "text/x-python",
            "name": "python",
            "nbconvert_exporter": "python",
            "pygments_lexer": "ipython3",
            "version": "3.6.9"
        }
    },
    "nbformat": 4,
    "nbformat_minor": 1
}