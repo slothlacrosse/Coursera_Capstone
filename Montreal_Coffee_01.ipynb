{
    "cells": [
        {
            "cell_type": "markdown",
            "metadata": {
                "collapsed": true
            },
            "source": "<b>Introduction/Business Problem:</b>\n<br>Montreal is a city covering 431.5 km^2 (166.6 mi^2) with approx. 1.8M inhabitants residing in 21 boroughs."
        },
        {
            "cell_type": "markdown",
            "metadata": {},
            "source": "The City of Saints is visited by over 2M people each year; making it Canada's most visited city. With so much to see and do, I'm going to need a cup of coffee!"
        },
        {
            "cell_type": "markdown",
            "metadata": {},
            "source": "With that in mind, I'm going to examine The City of 100 Steeples and see which neighborhoods will shelter and stimulate weary travelers."
        },
        {
            "cell_type": "markdown",
            "metadata": {},
            "source": "<b>Data:</b> \n<br>I will be using zipcode for metropolitan Montreal that is available on wikipedia. I will also be using venue name, location, and category information on Foursquare to identify neighborhoods that have accomodations for travelers (hotels/hostels/inns/etc) and coffee shops."
        },
        {
            "cell_type": "code",
            "execution_count": 9,
            "metadata": {},
            "outputs": [
                {
                    "name": "stdout",
                    "output_type": "stream",
                    "text": "Done\n"
                }
            ],
            "source": "#putting tools in the toolbox\nimport pandas as pd\nimport numpy as np\nimport requests\nfrom bs4 import BeautifulSoup\nfrom bs4.element import Comment\nimport urllib.request\nimport os\nfrom sklearn.cluster import KMeans\nfrom geopy.geocoders import Nominatim \nimport matplotlib.cm as cm\nimport matplotlib.colors as colors\n!pip -q install folium\nimport folium\nprint('Done')"
        },
        {
            "cell_type": "code",
            "execution_count": 10,
            "metadata": {},
            "outputs": [],
            "source": "#linking our postal code and neighborhood data\nlist_url=\"https://en.wikipedia.org/wiki/List_of_postal_codes_of_Canada:_H\"\nsource=requests.get(list_url).text\n#print(source)"
        },
        {
            "cell_type": "code",
            "execution_count": 11,
            "metadata": {},
            "outputs": [],
            "source": "#looking for patterns in the source code\nsoup=BeautifulSoup(source)\n#print(soup.prettify())"
        },
        {
            "cell_type": "code",
            "execution_count": 12,
            "metadata": {},
            "outputs": [],
            "source": "#seperating postal code and neighborhood data from the rest of the page\n#codes=soup.find_all('td',attrs={'valign':'top'})\n#for code in codes:\n#    print(code)\ncode_body=soup.find('tbody')\n#code_body"
        },
        {
            "cell_type": "code",
            "execution_count": 13,
            "metadata": {},
            "outputs": [],
            "source": "#making a list of postal codes\npostal_codes=code_body.find_all('b')\n#postal_codes\ncode_list=[]\nfor p in postal_codes[0:]:\n    result=p.text.strip()\n    code_list.append(result)\n#(code_list)"
        },
        {
            "cell_type": "code",
            "execution_count": 14,
            "metadata": {},
            "outputs": [
                {
                    "data": {
                        "text/plain": "181"
                    },
                    "execution_count": 14,
                    "metadata": {},
                    "output_type": "execute_result"
                }
            ],
            "source": "len(code_list)"
        },
        {
            "cell_type": "code",
            "execution_count": 15,
            "metadata": {},
            "outputs": [],
            "source": "#making a list of neighborhoods\nneighborhoods=code_body.find_all('span')\n#print(neighborhoods)\nngh_list=[]\nfor n in neighborhoods[0:]:\n    ngh_results=n.text.strip()\n    ngh_list.append(ngh_results)\n#print(ngh_list)"
        },
        {
            "cell_type": "code",
            "execution_count": 16,
            "metadata": {},
            "outputs": [
                {
                    "data": {
                        "text/plain": "181"
                    },
                    "execution_count": 16,
                    "metadata": {},
                    "output_type": "execute_result"
                }
            ],
            "source": "len(ngh_list)"
        },
        {
            "cell_type": "code",
            "execution_count": 17,
            "metadata": {},
            "outputs": [
                {
                    "data": {
                        "text/html": "<div>\n<style scoped>\n    .dataframe tbody tr th:only-of-type {\n        vertical-align: middle;\n    }\n\n    .dataframe tbody tr th {\n        vertical-align: top;\n    }\n\n    .dataframe thead th {\n        text-align: right;\n    }\n</style>\n<table border=\"1\" class=\"dataframe\">\n  <thead>\n    <tr style=\"text-align: right;\">\n      <th></th>\n      <th>Postalcode</th>\n      <th>Neighborhood</th>\n    </tr>\n  </thead>\n  <tbody>\n    <tr>\n      <th>0</th>\n      <td>H0A,</td>\n      <td>Not assigned</td>\n    </tr>\n    <tr>\n      <th>1</th>\n      <td>H1A</td>\n      <td>Pointe-aux-Trembles</td>\n    </tr>\n    <tr>\n      <th>2</th>\n      <td>H2A</td>\n      <td>Saint-Michel,East</td>\n    </tr>\n    <tr>\n      <th>3</th>\n      <td>H3A</td>\n      <td>Downtown Montreal North(McGill University)</td>\n    </tr>\n    <tr>\n      <th>4</th>\n      <td>H4A</td>\n      <td>Notre-Dame-de-Gr\u00e2ceNortheast</td>\n    </tr>\n  </tbody>\n</table>\n</div>",
                        "text/plain": "  Postalcode                                Neighborhood\n0       H0A,                                Not assigned\n1        H1A                         Pointe-aux-Trembles\n2        H2A                           Saint-Michel,East\n3        H3A  Downtown Montreal North(McGill University)\n4        H4A                Notre-Dame-de-Gr\u00e2ceNortheast"
                    },
                    "execution_count": 17,
                    "metadata": {},
                    "output_type": "execute_result"
                }
            ],
            "source": "#create data frame with postal codes and neighborhoods\nmtl_ngh=pd.DataFrame({'Postalcode':code_list,'Neighborhood':ngh_list})\nmtl_ngh.head()"
        },
        {
            "cell_type": "code",
            "execution_count": 18,
            "metadata": {},
            "outputs": [
                {
                    "name": "stdout",
                    "output_type": "stream",
                    "text": "  Postalcode                                Neighborhood\n1        H1A                         Pointe-aux-Trembles\n2        H2A                           Saint-Michel,East\n3        H3A  Downtown Montreal North(McGill University)\n4        H4A                Notre-Dame-de-Gr\u00e2ceNortheast\n5        H5A                           Place Bonaventure\n"
                },
                {
                    "data": {
                        "text/plain": "124"
                    },
                    "execution_count": 18,
                    "metadata": {},
                    "output_type": "execute_result"
                }
            ],
            "source": "#remove postal codes that are not assigned\nmtl_ngh=mtl_ngh[mtl_ngh['Neighborhood']!='Not assigned']\nprint(mtl_ngh.head())\nlen(mtl_ngh)"
        },
        {
            "cell_type": "code",
            "execution_count": 19,
            "metadata": {},
            "outputs": [
                {
                    "name": "stdout",
                    "output_type": "stream",
                    "text": "  Postalcode Neighborhood_joined\n1        H0J           AnjouWest\n2        H0K           AnjouEast\n3        H0L        MercierNorth\n4        H0M         MercierWest\n5        H0N    MercierSoutheast\n"
                },
                {
                    "data": {
                        "text/plain": "123"
                    },
                    "execution_count": 19,
                    "metadata": {},
                    "output_type": "execute_result"
                }
            ],
            "source": "mtl_temp=mtl_ngh.groupby('Postalcode')['Neighborhood'].apply(lambda x: \"%s\" % ', '.join(x))\nmtl_temp=mtl_temp.reset_index(drop=False)\nmtl_temp.rename(columns={'Neighborhood':'Neighborhood_joined'},inplace=True)\nmtl_temp=mtl_temp[mtl_temp['Neighborhood_joined']!='Reserved0H0: Santa Claus']\nprint(mtl_temp.head())\nlen(mtl_temp)"
        },
        {
            "cell_type": "code",
            "execution_count": 20,
            "metadata": {},
            "outputs": [
                {
                    "name": "stdout",
                    "output_type": "stream",
                    "text": "  Postalcode                                Neighborhood\n0        H1A                         Pointe-aux-Trembles\n1        H2A                           Saint-Michel,East\n2        H3A  Downtown Montreal North(McGill University)\n3        H4A                Notre-Dame-de-Gr\u00e2ceNortheast\n4        H5A                           Place Bonaventure\n"
                },
                {
                    "data": {
                        "text/plain": "123"
                    },
                    "execution_count": 20,
                    "metadata": {},
                    "output_type": "execute_result"
                }
            ],
            "source": "mtl_merge=pd.merge(mtl_ngh,mtl_temp,on='Postalcode')\nmtl_merge.drop(['Neighborhood'],axis=1,inplace=True)\nmtl_merge.drop_duplicates(inplace=True)\nmtl_merge.rename(columns={'Neighborhood_joined':'Neighborhood'},inplace=True)\nprint(mtl_merge.head())\nlen(mtl_merge)"
        },
        {
            "cell_type": "code",
            "execution_count": 21,
            "metadata": {},
            "outputs": [
                {
                    "data": {
                        "text/html": "<div>\n<style scoped>\n    .dataframe tbody tr th:only-of-type {\n        vertical-align: middle;\n    }\n\n    .dataframe tbody tr th {\n        vertical-align: top;\n    }\n\n    .dataframe thead th {\n        text-align: right;\n    }\n</style>\n<table border=\"1\" class=\"dataframe\">\n  <thead>\n    <tr style=\"text-align: right;\">\n      <th></th>\n      <th>Postalcode</th>\n      <th>Neighborhood</th>\n    </tr>\n  </thead>\n  <tbody>\n    <tr>\n      <th>0</th>\n      <td>H1A</td>\n      <td>Pointe-aux-Trembles</td>\n    </tr>\n    <tr>\n      <th>1</th>\n      <td>H2A</td>\n      <td>Saint-Michel,East</td>\n    </tr>\n    <tr>\n      <th>2</th>\n      <td>H3A</td>\n      <td>Downtown Montreal North(McGill University)</td>\n    </tr>\n    <tr>\n      <th>3</th>\n      <td>H4A</td>\n      <td>Notre-Dame-de-Gr\u00e2ceNortheast</td>\n    </tr>\n    <tr>\n      <th>4</th>\n      <td>H5A</td>\n      <td>Place Bonaventure</td>\n    </tr>\n  </tbody>\n</table>\n</div>",
                        "text/plain": "  Postalcode                                Neighborhood\n0        H1A                         Pointe-aux-Trembles\n1        H2A                           Saint-Michel,East\n2        H3A  Downtown Montreal North(McGill University)\n3        H4A                Notre-Dame-de-Gr\u00e2ceNortheast\n4        H5A                           Place Bonaventure"
                    },
                    "execution_count": 21,
                    "metadata": {},
                    "output_type": "execute_result"
                }
            ],
            "source": "mtl_merge=pd.DataFrame(mtl_merge)\nmtl_merge.head()"
        },
        {
            "cell_type": "markdown",
            "metadata": {},
            "source": "def get_geocode(postal_code):\n    lat_lng_coord = None\n    while(lat_lng_coord is None):\n        m = geocoder.google('{}, Montreal, Quebec'.format(postal_code))\n        lat_lng_coords = m.latlng\n    mtl_latitude = lat_lng_coords[0]\n    mtl_longitude = lat_lng_coords[1]\n    return mtl_latitude,mtl_longitude\n#print('Done')\nmtl_geo=pd.read_csv('http://cocl.us/Geospatial_data')\nmtl_geo.head()"
        },
        {
            "cell_type": "code",
            "execution_count": 22,
            "metadata": {},
            "outputs": [
                {
                    "name": "stdout",
                    "output_type": "stream",
                    "text": "Collecting pgeocode\n  Downloading https://files.pythonhosted.org/packages/86/44/519e3db3db84acdeb29e24f2e65991960f13464279b61bde5e9e96909c9d/pgeocode-0.2.1-py2.py3-none-any.whl\nRequirement already satisfied: pandas in /opt/conda/envs/Python36/lib/python3.6/site-packages (from pgeocode) (0.24.1)\nRequirement already satisfied: requests in /opt/conda/envs/Python36/lib/python3.6/site-packages (from pgeocode) (2.21.0)\nRequirement already satisfied: numpy in /opt/conda/envs/Python36/lib/python3.6/site-packages (from pgeocode) (1.15.4)\nRequirement already satisfied: python-dateutil>=2.5.0 in /opt/conda/envs/Python36/lib/python3.6/site-packages (from pandas->pgeocode) (2.7.5)\nRequirement already satisfied: pytz>=2011k in /opt/conda/envs/Python36/lib/python3.6/site-packages (from pandas->pgeocode) (2018.9)\nRequirement already satisfied: chardet<3.1.0,>=3.0.2 in /opt/conda/envs/Python36/lib/python3.6/site-packages (from requests->pgeocode) (3.0.4)\nRequirement already satisfied: urllib3<1.25,>=1.21.1 in /opt/conda/envs/Python36/lib/python3.6/site-packages (from requests->pgeocode) (1.24.1)\nRequirement already satisfied: idna<2.9,>=2.5 in /opt/conda/envs/Python36/lib/python3.6/site-packages (from requests->pgeocode) (2.8)\nRequirement already satisfied: certifi>=2017.4.17 in /opt/conda/envs/Python36/lib/python3.6/site-packages (from requests->pgeocode) (2020.4.5.1)\nRequirement already satisfied: six>=1.5 in /opt/conda/envs/Python36/lib/python3.6/site-packages (from python-dateutil>=2.5.0->pandas->pgeocode) (1.12.0)\nInstalling collected packages: pgeocode\nSuccessfully installed pgeocode-0.2.1\nDone\n"
                }
            ],
            "source": "!pip install pgeocode\nprint('Done')"
        },
        {
            "cell_type": "code",
            "execution_count": 23,
            "metadata": {},
            "outputs": [
                {
                    "name": "stdout",
                    "output_type": "stream",
                    "text": "Done\n"
                }
            ],
            "source": "import pgeocode\nprint('Done')"
        },
        {
            "cell_type": "code",
            "execution_count": 24,
            "metadata": {},
            "outputs": [
                {
                    "data": {
                        "text/html": "<div>\n<style scoped>\n    .dataframe tbody tr th:only-of-type {\n        vertical-align: middle;\n    }\n\n    .dataframe tbody tr th {\n        vertical-align: top;\n    }\n\n    .dataframe thead th {\n        text-align: right;\n    }\n</style>\n<table border=\"1\" class=\"dataframe\">\n  <thead>\n    <tr style=\"text-align: right;\">\n      <th></th>\n      <th>postal_code</th>\n      <th>country code</th>\n      <th>place_name</th>\n      <th>state_name</th>\n      <th>state_code</th>\n      <th>county_name</th>\n      <th>county_code</th>\n      <th>community_name</th>\n      <th>community_code</th>\n      <th>latitude</th>\n      <th>longitude</th>\n      <th>accuracy</th>\n    </tr>\n  </thead>\n  <tbody>\n    <tr>\n      <th>0</th>\n      <td>H0A,</td>\n      <td>NaN</td>\n      <td>NaN</td>\n      <td>NaN</td>\n      <td>NaN</td>\n      <td>NaN</td>\n      <td>NaN</td>\n      <td>NaN</td>\n      <td>NaN</td>\n      <td>NaN</td>\n      <td>NaN</td>\n      <td>NaN</td>\n    </tr>\n    <tr>\n      <th>1</th>\n      <td>H1A</td>\n      <td>CA</td>\n      <td>Pointe-Aux-Trembles</td>\n      <td>Quebec</td>\n      <td>QC</td>\n      <td>NaN</td>\n      <td>NaN</td>\n      <td>NaN</td>\n      <td>NaN</td>\n      <td>45.6753</td>\n      <td>-73.5016</td>\n      <td>4.0</td>\n    </tr>\n    <tr>\n      <th>2</th>\n      <td>H2A</td>\n      <td>CA</td>\n      <td>Saint-Michel East</td>\n      <td>Quebec</td>\n      <td>QC</td>\n      <td>NaN</td>\n      <td>NaN</td>\n      <td>NaN</td>\n      <td>NaN</td>\n      <td>45.5618</td>\n      <td>-73.5990</td>\n      <td>6.0</td>\n    </tr>\n    <tr>\n      <th>3</th>\n      <td>H3A</td>\n      <td>CA</td>\n      <td>Downtown Montreal North</td>\n      <td>Quebec</td>\n      <td>QC</td>\n      <td>Montreal</td>\n      <td>6.0</td>\n      <td>NaN</td>\n      <td>NaN</td>\n      <td>45.5040</td>\n      <td>-73.5747</td>\n      <td>1.0</td>\n    </tr>\n    <tr>\n      <th>4</th>\n      <td>H4A</td>\n      <td>CA</td>\n      <td>Notre-Dame-de-Gr\u00d4ce Northeast</td>\n      <td>Quebec</td>\n      <td>QC</td>\n      <td>Notre-Dame-de-Gr\u00d4ce</td>\n      <td>NaN</td>\n      <td>NaN</td>\n      <td>NaN</td>\n      <td>45.4717</td>\n      <td>-73.6149</td>\n      <td>1.0</td>\n    </tr>\n    <tr>\n      <th>5</th>\n      <td>H5A</td>\n      <td>CA</td>\n      <td>Place Bonaventure</td>\n      <td>Quebec</td>\n      <td>QC</td>\n      <td>Place</td>\n      <td>NaN</td>\n      <td>NaN</td>\n      <td>NaN</td>\n      <td>45.4992</td>\n      <td>-73.5646</td>\n      <td>6.0</td>\n    </tr>\n    <tr>\n      <th>6</th>\n      <td>H7A</td>\n      <td>CA</td>\n      <td>Duvernay-Est</td>\n      <td>Quebec</td>\n      <td>QC</td>\n      <td>NaN</td>\n      <td>NaN</td>\n      <td>NaN</td>\n      <td>NaN</td>\n      <td>45.6739</td>\n      <td>-73.5924</td>\n      <td>1.0</td>\n    </tr>\n    <tr>\n      <th>7</th>\n      <td>H8A</td>\n      <td>NaN</td>\n      <td>NaN</td>\n      <td>NaN</td>\n      <td>NaN</td>\n      <td>NaN</td>\n      <td>NaN</td>\n      <td>NaN</td>\n      <td>NaN</td>\n      <td>NaN</td>\n      <td>NaN</td>\n      <td>NaN</td>\n    </tr>\n    <tr>\n      <th>8</th>\n      <td>H9A</td>\n      <td>CA</td>\n      <td>Dollard-Des-Ormeaux Northwest</td>\n      <td>Quebec</td>\n      <td>QC</td>\n      <td>Dollard-Des-Ormeaux</td>\n      <td>NaN</td>\n      <td>NaN</td>\n      <td>NaN</td>\n      <td>45.4948</td>\n      <td>-73.8317</td>\n      <td>1.0</td>\n    </tr>\n    <tr>\n      <th>9</th>\n      <td>H0B</td>\n      <td>NaN</td>\n      <td>NaN</td>\n      <td>NaN</td>\n      <td>NaN</td>\n      <td>NaN</td>\n      <td>NaN</td>\n      <td>NaN</td>\n      <td>NaN</td>\n      <td>NaN</td>\n      <td>NaN</td>\n      <td>NaN</td>\n    </tr>\n    <tr>\n      <th>10</th>\n      <td>H1B</td>\n      <td>CA</td>\n      <td>Montreal East</td>\n      <td>Quebec</td>\n      <td>QC</td>\n      <td>Montreal</td>\n      <td>6.0</td>\n      <td>NaN</td>\n      <td>NaN</td>\n      <td>45.6320</td>\n      <td>-73.5075</td>\n      <td>4.0</td>\n    </tr>\n    <tr>\n      <th>11</th>\n      <td>H2B</td>\n      <td>CA</td>\n      <td>Ahuntsic North</td>\n      <td>Quebec</td>\n      <td>QC</td>\n      <td>Ahuntsic</td>\n      <td>NaN</td>\n      <td>NaN</td>\n      <td>NaN</td>\n      <td>45.5741</td>\n      <td>-73.6507</td>\n      <td>6.0</td>\n    </tr>\n    <tr>\n      <th>12</th>\n      <td>H3B</td>\n      <td>CA</td>\n      <td>Downtown Montreal East</td>\n      <td>Quebec</td>\n      <td>QC</td>\n      <td>Montreal</td>\n      <td>6.0</td>\n      <td>NaN</td>\n      <td>NaN</td>\n      <td>45.5005</td>\n      <td>-73.5684</td>\n      <td>1.0</td>\n    </tr>\n    <tr>\n      <th>13</th>\n      <td>H4B</td>\n      <td>CA</td>\n      <td>Notre-Dame-de-Gr\u00d4ce Southwest</td>\n      <td>Quebec</td>\n      <td>QC</td>\n      <td>Notre-Dame-de-Gr\u00d4ce</td>\n      <td>NaN</td>\n      <td>NaN</td>\n      <td>NaN</td>\n      <td>45.4604</td>\n      <td>-73.6303</td>\n      <td>1.0</td>\n    </tr>\n    <tr>\n      <th>14</th>\n      <td>H5B</td>\n      <td>CA</td>\n      <td>Place Desjardins</td>\n      <td>Quebec</td>\n      <td>QC</td>\n      <td>Place</td>\n      <td>NaN</td>\n      <td>NaN</td>\n      <td>NaN</td>\n      <td>45.5066</td>\n      <td>-73.5623</td>\n      <td>NaN</td>\n    </tr>\n    <tr>\n      <th>15</th>\n      <td>H7B</td>\n      <td>CA</td>\n      <td>Saint-Fran\u00feois</td>\n      <td>Quebec</td>\n      <td>QC</td>\n      <td>NaN</td>\n      <td>NaN</td>\n      <td>NaN</td>\n      <td>NaN</td>\n      <td>45.6757</td>\n      <td>-73.6388</td>\n      <td>1.0</td>\n    </tr>\n    <tr>\n      <th>16</th>\n      <td>H8B</td>\n      <td>NaN</td>\n      <td>NaN</td>\n      <td>NaN</td>\n      <td>NaN</td>\n      <td>NaN</td>\n      <td>NaN</td>\n      <td>NaN</td>\n      <td>NaN</td>\n      <td>NaN</td>\n      <td>NaN</td>\n      <td>NaN</td>\n    </tr>\n    <tr>\n      <th>17</th>\n      <td>H9B</td>\n      <td>CA</td>\n      <td>Dollard-Des-Ormeaux East</td>\n      <td>Quebec</td>\n      <td>QC</td>\n      <td>Dollard-Des-Ormeaux</td>\n      <td>NaN</td>\n      <td>NaN</td>\n      <td>NaN</td>\n      <td>45.4897</td>\n      <td>-73.7958</td>\n      <td>1.0</td>\n    </tr>\n    <tr>\n      <th>18</th>\n      <td>H0C</td>\n      <td>NaN</td>\n      <td>NaN</td>\n      <td>NaN</td>\n      <td>NaN</td>\n      <td>NaN</td>\n      <td>NaN</td>\n      <td>NaN</td>\n      <td>NaN</td>\n      <td>NaN</td>\n      <td>NaN</td>\n      <td>NaN</td>\n    </tr>\n    <tr>\n      <th>19</th>\n      <td>H1C</td>\n      <td>CA</td>\n      <td>Rivi\u00e8re-des-Prairies Northeast</td>\n      <td>Quebec</td>\n      <td>QC</td>\n      <td>NaN</td>\n      <td>NaN</td>\n      <td>NaN</td>\n      <td>NaN</td>\n      <td>45.6656</td>\n      <td>-73.5367</td>\n      <td>1.0</td>\n    </tr>\n    <tr>\n      <th>20</th>\n      <td>H2C</td>\n      <td>CA</td>\n      <td>Ahuntsic Central</td>\n      <td>Quebec</td>\n      <td>QC</td>\n      <td>Ahuntsic</td>\n      <td>NaN</td>\n      <td>NaN</td>\n      <td>NaN</td>\n      <td>45.5606</td>\n      <td>-73.6584</td>\n      <td>6.0</td>\n    </tr>\n    <tr>\n      <th>21</th>\n      <td>H3C</td>\n      <td>CA</td>\n      <td>Griffintown (Includes \u00cele Notre-Dame &amp; \u00cele Sai...</td>\n      <td>Quebec</td>\n      <td>QC</td>\n      <td>NaN</td>\n      <td>NaN</td>\n      <td>NaN</td>\n      <td>NaN</td>\n      <td>45.4980</td>\n      <td>-73.5472</td>\n      <td>1.0</td>\n    </tr>\n    <tr>\n      <th>22</th>\n      <td>H4C</td>\n      <td>CA</td>\n      <td>Saint-Henri</td>\n      <td>Quebec</td>\n      <td>QC</td>\n      <td>NaN</td>\n      <td>NaN</td>\n      <td>NaN</td>\n      <td>NaN</td>\n      <td>45.4737</td>\n      <td>-73.5882</td>\n      <td>4.0</td>\n    </tr>\n    <tr>\n      <th>23</th>\n      <td>H5C</td>\n      <td>NaN</td>\n      <td>NaN</td>\n      <td>NaN</td>\n      <td>NaN</td>\n      <td>NaN</td>\n      <td>NaN</td>\n      <td>NaN</td>\n      <td>NaN</td>\n      <td>NaN</td>\n      <td>NaN</td>\n      <td>NaN</td>\n    </tr>\n    <tr>\n      <th>24</th>\n      <td>H7C</td>\n      <td>CA</td>\n      <td>Saint-Vincent-de-Paul</td>\n      <td>Quebec</td>\n      <td>QC</td>\n      <td>NaN</td>\n      <td>NaN</td>\n      <td>NaN</td>\n      <td>NaN</td>\n      <td>45.6168</td>\n      <td>-73.6492</td>\n      <td>4.0</td>\n    </tr>\n    <tr>\n      <th>25</th>\n      <td>H8C</td>\n      <td>NaN</td>\n      <td>NaN</td>\n      <td>NaN</td>\n      <td>NaN</td>\n      <td>NaN</td>\n      <td>NaN</td>\n      <td>NaN</td>\n      <td>NaN</td>\n      <td>NaN</td>\n      <td>NaN</td>\n      <td>NaN</td>\n    </tr>\n    <tr>\n      <th>26</th>\n      <td>H9C</td>\n      <td>CA</td>\n      <td>L'\u00cele Bizard Northeast</td>\n      <td>Quebec</td>\n      <td>QC</td>\n      <td>NaN</td>\n      <td>NaN</td>\n      <td>NaN</td>\n      <td>NaN</td>\n      <td>45.5055</td>\n      <td>-73.8789</td>\n      <td>1.0</td>\n    </tr>\n    <tr>\n      <th>27</th>\n      <td>H0E</td>\n      <td>NaN</td>\n      <td>NaN</td>\n      <td>NaN</td>\n      <td>NaN</td>\n      <td>NaN</td>\n      <td>NaN</td>\n      <td>NaN</td>\n      <td>NaN</td>\n      <td>NaN</td>\n      <td>NaN</td>\n      <td>NaN</td>\n    </tr>\n    <tr>\n      <th>28</th>\n      <td>H1E</td>\n      <td>CA</td>\n      <td>Rivi\u00e8re-Des-Prairies Southwest</td>\n      <td>Quebec</td>\n      <td>QC</td>\n      <td>NaN</td>\n      <td>NaN</td>\n      <td>NaN</td>\n      <td>NaN</td>\n      <td>45.6342</td>\n      <td>-73.5842</td>\n      <td>1.0</td>\n    </tr>\n    <tr>\n      <th>29</th>\n      <td>H2E</td>\n      <td>CA</td>\n      <td>Villeray Northeast</td>\n      <td>Quebec</td>\n      <td>QC</td>\n      <td>Villeray</td>\n      <td>NaN</td>\n      <td>NaN</td>\n      <td>NaN</td>\n      <td>45.5514</td>\n      <td>-73.6116</td>\n      <td>6.0</td>\n    </tr>\n    <tr>\n      <th>...</th>\n      <td>...</td>\n      <td>...</td>\n      <td>...</td>\n      <td>...</td>\n      <td>...</td>\n      <td>...</td>\n      <td>...</td>\n      <td>...</td>\n      <td>...</td>\n      <td>...</td>\n      <td>...</td>\n      <td>...</td>\n    </tr>\n    <tr>\n      <th>151</th>\n      <td>H7W</td>\n      <td>CA</td>\n      <td>Chomedey South</td>\n      <td>Quebec</td>\n      <td>QC</td>\n      <td>Chomedey</td>\n      <td>NaN</td>\n      <td>NaN</td>\n      <td>NaN</td>\n      <td>45.5338</td>\n      <td>-73.7652</td>\n      <td>1.0</td>\n    </tr>\n    <tr>\n      <th>152</th>\n      <td>H8W</td>\n      <td>NaN</td>\n      <td>NaN</td>\n      <td>NaN</td>\n      <td>NaN</td>\n      <td>NaN</td>\n      <td>NaN</td>\n      <td>NaN</td>\n      <td>NaN</td>\n      <td>NaN</td>\n      <td>NaN</td>\n      <td>NaN</td>\n    </tr>\n    <tr>\n      <th>153</th>\n      <td>H9W</td>\n      <td>CA</td>\n      <td>Beaconsfield</td>\n      <td>Quebec</td>\n      <td>QC</td>\n      <td>Montr\u00e9al</td>\n      <td>6.0</td>\n      <td>Beaconsfield</td>\n      <td>66107.0</td>\n      <td>45.4334</td>\n      <td>-73.8659</td>\n      <td>4.0</td>\n    </tr>\n    <tr>\n      <th>154</th>\n      <td>H0X</td>\n      <td>NaN</td>\n      <td>NaN</td>\n      <td>NaN</td>\n      <td>NaN</td>\n      <td>NaN</td>\n      <td>NaN</td>\n      <td>NaN</td>\n      <td>NaN</td>\n      <td>NaN</td>\n      <td>NaN</td>\n      <td>NaN</td>\n    </tr>\n    <tr>\n      <th>155</th>\n      <td>H1X</td>\n      <td>CA</td>\n      <td>Rosemont Central</td>\n      <td>Quebec</td>\n      <td>QC</td>\n      <td>Rosemont</td>\n      <td>NaN</td>\n      <td>NaN</td>\n      <td>NaN</td>\n      <td>45.5583</td>\n      <td>-73.5701</td>\n      <td>1.0</td>\n    </tr>\n    <tr>\n      <th>156</th>\n      <td>H2X</td>\n      <td>CA</td>\n      <td>Plateau Mont-Royal Southeast</td>\n      <td>Quebec</td>\n      <td>QC</td>\n      <td>Plateau Mont-Royal</td>\n      <td>NaN</td>\n      <td>NaN</td>\n      <td>NaN</td>\n      <td>45.5115</td>\n      <td>-73.5683</td>\n      <td>6.0</td>\n    </tr>\n    <tr>\n      <th>157</th>\n      <td>H3X</td>\n      <td>CA</td>\n      <td>Hampstead</td>\n      <td>Quebec</td>\n      <td>QC</td>\n      <td>Montr\u00e9al</td>\n      <td>6.0</td>\n      <td>Hampstead</td>\n      <td>66062.0</td>\n      <td>45.4819</td>\n      <td>-73.6421</td>\n      <td>4.0</td>\n    </tr>\n    <tr>\n      <th>158</th>\n      <td>H4X</td>\n      <td>CA</td>\n      <td>Montreal West</td>\n      <td>Quebec</td>\n      <td>QC</td>\n      <td>Montreal</td>\n      <td>6.0</td>\n      <td>NaN</td>\n      <td>NaN</td>\n      <td>45.4529</td>\n      <td>-73.6492</td>\n      <td>4.0</td>\n    </tr>\n    <tr>\n      <th>159</th>\n      <td>H5X</td>\n      <td>NaN</td>\n      <td>NaN</td>\n      <td>NaN</td>\n      <td>NaN</td>\n      <td>NaN</td>\n      <td>NaN</td>\n      <td>NaN</td>\n      <td>NaN</td>\n      <td>NaN</td>\n      <td>NaN</td>\n      <td>NaN</td>\n    </tr>\n    <tr>\n      <th>160</th>\n      <td>H7X</td>\n      <td>CA</td>\n      <td>Sainte-Doroth\u00e9e</td>\n      <td>Quebec</td>\n      <td>QC</td>\n      <td>NaN</td>\n      <td>NaN</td>\n      <td>NaN</td>\n      <td>NaN</td>\n      <td>45.5334</td>\n      <td>-73.8159</td>\n      <td>4.0</td>\n    </tr>\n    <tr>\n      <th>161</th>\n      <td>H8X</td>\n      <td>NaN</td>\n      <td>NaN</td>\n      <td>NaN</td>\n      <td>NaN</td>\n      <td>NaN</td>\n      <td>NaN</td>\n      <td>NaN</td>\n      <td>NaN</td>\n      <td>NaN</td>\n      <td>NaN</td>\n      <td>NaN</td>\n    </tr>\n    <tr>\n      <th>162</th>\n      <td>H9X</td>\n      <td>CA</td>\n      <td>Sainte-Anne-De-Bellevue</td>\n      <td>Quebec</td>\n      <td>QC</td>\n      <td>NaN</td>\n      <td>NaN</td>\n      <td>NaN</td>\n      <td>NaN</td>\n      <td>45.4062</td>\n      <td>-73.9456</td>\n      <td>4.0</td>\n    </tr>\n    <tr>\n      <th>163</th>\n      <td>H0Y</td>\n      <td>NaN</td>\n      <td>NaN</td>\n      <td>NaN</td>\n      <td>NaN</td>\n      <td>NaN</td>\n      <td>NaN</td>\n      <td>NaN</td>\n      <td>NaN</td>\n      <td>NaN</td>\n      <td>NaN</td>\n      <td>NaN</td>\n    </tr>\n    <tr>\n      <th>164</th>\n      <td>H1Y</td>\n      <td>CA</td>\n      <td>Rosemont South</td>\n      <td>Quebec</td>\n      <td>QC</td>\n      <td>Rosemont</td>\n      <td>NaN</td>\n      <td>NaN</td>\n      <td>NaN</td>\n      <td>45.5486</td>\n      <td>-73.5788</td>\n      <td>1.0</td>\n    </tr>\n    <tr>\n      <th>165</th>\n      <td>H2Y</td>\n      <td>CA</td>\n      <td>Old Montreal</td>\n      <td>Quebec</td>\n      <td>QC</td>\n      <td>Montreal</td>\n      <td>6.0</td>\n      <td>NaN</td>\n      <td>NaN</td>\n      <td>45.5057</td>\n      <td>-73.5550</td>\n      <td>6.0</td>\n    </tr>\n    <tr>\n      <th>166</th>\n      <td>H3Y</td>\n      <td>CA</td>\n      <td>Westmount West</td>\n      <td>Quebec</td>\n      <td>QC</td>\n      <td>Montr\u00e9al</td>\n      <td>6.0</td>\n      <td>Westmount</td>\n      <td>66032.0</td>\n      <td>45.4876</td>\n      <td>-73.6045</td>\n      <td>1.0</td>\n    </tr>\n    <tr>\n      <th>167</th>\n      <td>H4Y</td>\n      <td>CA</td>\n      <td>Dorval Central</td>\n      <td>Quebec</td>\n      <td>QC</td>\n      <td>NaN</td>\n      <td>NaN</td>\n      <td>NaN</td>\n      <td>NaN</td>\n      <td>45.8654</td>\n      <td>-72.7614</td>\n      <td>1.0</td>\n    </tr>\n    <tr>\n      <th>168</th>\n      <td>H5Y</td>\n      <td>NaN</td>\n      <td>NaN</td>\n      <td>NaN</td>\n      <td>NaN</td>\n      <td>NaN</td>\n      <td>NaN</td>\n      <td>NaN</td>\n      <td>NaN</td>\n      <td>NaN</td>\n      <td>NaN</td>\n      <td>NaN</td>\n    </tr>\n    <tr>\n      <th>169</th>\n      <td>H7Y</td>\n      <td>CA</td>\n      <td>\u00celes-Laval</td>\n      <td>Quebec</td>\n      <td>QC</td>\n      <td>NaN</td>\n      <td>NaN</td>\n      <td>NaN</td>\n      <td>NaN</td>\n      <td>45.5284</td>\n      <td>-73.8509</td>\n      <td>1.0</td>\n    </tr>\n    <tr>\n      <th>170</th>\n      <td>H8Y</td>\n      <td>CA</td>\n      <td>Roxboro</td>\n      <td>Quebec</td>\n      <td>QC</td>\n      <td>NaN</td>\n      <td>NaN</td>\n      <td>NaN</td>\n      <td>NaN</td>\n      <td>45.5084</td>\n      <td>-73.8075</td>\n      <td>4.0</td>\n    </tr>\n    <tr>\n      <th>171</th>\n      <td>H9Y</td>\n      <td>NaN</td>\n      <td>NaN</td>\n      <td>NaN</td>\n      <td>NaN</td>\n      <td>NaN</td>\n      <td>NaN</td>\n      <td>NaN</td>\n      <td>NaN</td>\n      <td>NaN</td>\n      <td>NaN</td>\n      <td>NaN</td>\n    </tr>\n    <tr>\n      <th>172</th>\n      <td>H0Z</td>\n      <td>NaN</td>\n      <td>NaN</td>\n      <td>NaN</td>\n      <td>NaN</td>\n      <td>NaN</td>\n      <td>NaN</td>\n      <td>NaN</td>\n      <td>NaN</td>\n      <td>NaN</td>\n      <td>NaN</td>\n      <td>NaN</td>\n    </tr>\n    <tr>\n      <th>173</th>\n      <td>H1Z</td>\n      <td>CA</td>\n      <td>Saint-Michel West</td>\n      <td>Quebec</td>\n      <td>QC</td>\n      <td>NaN</td>\n      <td>NaN</td>\n      <td>NaN</td>\n      <td>NaN</td>\n      <td>45.5694</td>\n      <td>-73.6221</td>\n      <td>1.0</td>\n    </tr>\n    <tr>\n      <th>174</th>\n      <td>H2Z</td>\n      <td>CA</td>\n      <td>Downtown Montreal Northeast</td>\n      <td>Quebec</td>\n      <td>QC</td>\n      <td>Montreal</td>\n      <td>6.0</td>\n      <td>NaN</td>\n      <td>NaN</td>\n      <td>45.5052</td>\n      <td>-73.5622</td>\n      <td>6.0</td>\n    </tr>\n    <tr>\n      <th>175</th>\n      <td>H3Z</td>\n      <td>CA</td>\n      <td>Westmount East</td>\n      <td>Quebec</td>\n      <td>QC</td>\n      <td>Montr\u00e9al</td>\n      <td>6.0</td>\n      <td>Westmount</td>\n      <td>66032.0</td>\n      <td>45.4825</td>\n      <td>-73.5933</td>\n      <td>1.0</td>\n    </tr>\n    <tr>\n      <th>176</th>\n      <td>H4Z</td>\n      <td>CA</td>\n      <td>Tour de la Bourse</td>\n      <td>Quebec</td>\n      <td>QC</td>\n      <td>NaN</td>\n      <td>NaN</td>\n      <td>NaN</td>\n      <td>NaN</td>\n      <td>45.5061</td>\n      <td>-73.5573</td>\n      <td>1.0</td>\n    </tr>\n    <tr>\n      <th>177</th>\n      <td>H5Z</td>\n      <td>NaN</td>\n      <td>NaN</td>\n      <td>NaN</td>\n      <td>NaN</td>\n      <td>NaN</td>\n      <td>NaN</td>\n      <td>NaN</td>\n      <td>NaN</td>\n      <td>NaN</td>\n      <td>NaN</td>\n      <td>NaN</td>\n    </tr>\n    <tr>\n      <th>178</th>\n      <td>H7Z</td>\n      <td>NaN</td>\n      <td>NaN</td>\n      <td>NaN</td>\n      <td>NaN</td>\n      <td>NaN</td>\n      <td>NaN</td>\n      <td>NaN</td>\n      <td>NaN</td>\n      <td>NaN</td>\n      <td>NaN</td>\n      <td>NaN</td>\n    </tr>\n    <tr>\n      <th>179</th>\n      <td>H8Z</td>\n      <td>CA</td>\n      <td>Pierrefonds</td>\n      <td>Quebec</td>\n      <td>QC</td>\n      <td>NaN</td>\n      <td>NaN</td>\n      <td>NaN</td>\n      <td>NaN</td>\n      <td>45.5069</td>\n      <td>-73.8407</td>\n      <td>1.0</td>\n    </tr>\n    <tr>\n      <th>180</th>\n      <td>H9Z</td>\n      <td>NaN</td>\n      <td>NaN</td>\n      <td>NaN</td>\n      <td>NaN</td>\n      <td>NaN</td>\n      <td>NaN</td>\n      <td>NaN</td>\n      <td>NaN</td>\n      <td>NaN</td>\n      <td>NaN</td>\n      <td>NaN</td>\n    </tr>\n  </tbody>\n</table>\n<p>181 rows \u00d7 12 columns</p>\n</div>",
                        "text/plain": "    postal_code country code  \\\n0          H0A,          NaN   \n1           H1A           CA   \n2           H2A           CA   \n3           H3A           CA   \n4           H4A           CA   \n5           H5A           CA   \n6           H7A           CA   \n7           H8A          NaN   \n8           H9A           CA   \n9           H0B          NaN   \n10          H1B           CA   \n11          H2B           CA   \n12          H3B           CA   \n13          H4B           CA   \n14          H5B           CA   \n15          H7B           CA   \n16          H8B          NaN   \n17          H9B           CA   \n18          H0C          NaN   \n19          H1C           CA   \n20          H2C           CA   \n21          H3C           CA   \n22          H4C           CA   \n23          H5C          NaN   \n24          H7C           CA   \n25          H8C          NaN   \n26          H9C           CA   \n27          H0E          NaN   \n28          H1E           CA   \n29          H2E           CA   \n..          ...          ...   \n151         H7W           CA   \n152         H8W          NaN   \n153         H9W           CA   \n154         H0X          NaN   \n155         H1X           CA   \n156         H2X           CA   \n157         H3X           CA   \n158         H4X           CA   \n159         H5X          NaN   \n160         H7X           CA   \n161         H8X          NaN   \n162         H9X           CA   \n163         H0Y          NaN   \n164         H1Y           CA   \n165         H2Y           CA   \n166         H3Y           CA   \n167         H4Y           CA   \n168         H5Y          NaN   \n169         H7Y           CA   \n170         H8Y           CA   \n171         H9Y          NaN   \n172         H0Z          NaN   \n173         H1Z           CA   \n174         H2Z           CA   \n175         H3Z           CA   \n176         H4Z           CA   \n177         H5Z          NaN   \n178         H7Z          NaN   \n179         H8Z           CA   \n180         H9Z          NaN   \n\n                                            place_name state_name state_code  \\\n0                                                  NaN        NaN        NaN   \n1                                  Pointe-Aux-Trembles     Quebec         QC   \n2                                    Saint-Michel East     Quebec         QC   \n3                              Downtown Montreal North     Quebec         QC   \n4                        Notre-Dame-de-Gr\u00d4ce Northeast     Quebec         QC   \n5                                    Place Bonaventure     Quebec         QC   \n6                                         Duvernay-Est     Quebec         QC   \n7                                                  NaN        NaN        NaN   \n8                        Dollard-Des-Ormeaux Northwest     Quebec         QC   \n9                                                  NaN        NaN        NaN   \n10                                       Montreal East     Quebec         QC   \n11                                      Ahuntsic North     Quebec         QC   \n12                              Downtown Montreal East     Quebec         QC   \n13                       Notre-Dame-de-Gr\u00d4ce Southwest     Quebec         QC   \n14                                    Place Desjardins     Quebec         QC   \n15                                      Saint-Fran\u00feois     Quebec         QC   \n16                                                 NaN        NaN        NaN   \n17                            Dollard-Des-Ormeaux East     Quebec         QC   \n18                                                 NaN        NaN        NaN   \n19                      Rivi\u00e8re-des-Prairies Northeast     Quebec         QC   \n20                                    Ahuntsic Central     Quebec         QC   \n21   Griffintown (Includes \u00cele Notre-Dame & \u00cele Sai...     Quebec         QC   \n22                                         Saint-Henri     Quebec         QC   \n23                                                 NaN        NaN        NaN   \n24                               Saint-Vincent-de-Paul     Quebec         QC   \n25                                                 NaN        NaN        NaN   \n26                              L'\u00cele Bizard Northeast     Quebec         QC   \n27                                                 NaN        NaN        NaN   \n28                      Rivi\u00e8re-Des-Prairies Southwest     Quebec         QC   \n29                                  Villeray Northeast     Quebec         QC   \n..                                                 ...        ...        ...   \n151                                     Chomedey South     Quebec         QC   \n152                                                NaN        NaN        NaN   \n153                                       Beaconsfield     Quebec         QC   \n154                                                NaN        NaN        NaN   \n155                                   Rosemont Central     Quebec         QC   \n156                       Plateau Mont-Royal Southeast     Quebec         QC   \n157                                          Hampstead     Quebec         QC   \n158                                      Montreal West     Quebec         QC   \n159                                                NaN        NaN        NaN   \n160                                    Sainte-Doroth\u00e9e     Quebec         QC   \n161                                                NaN        NaN        NaN   \n162                            Sainte-Anne-De-Bellevue     Quebec         QC   \n163                                                NaN        NaN        NaN   \n164                                     Rosemont South     Quebec         QC   \n165                                       Old Montreal     Quebec         QC   \n166                                     Westmount West     Quebec         QC   \n167                                     Dorval Central     Quebec         QC   \n168                                                NaN        NaN        NaN   \n169                                         \u00celes-Laval     Quebec         QC   \n170                                            Roxboro     Quebec         QC   \n171                                                NaN        NaN        NaN   \n172                                                NaN        NaN        NaN   \n173                                  Saint-Michel West     Quebec         QC   \n174                        Downtown Montreal Northeast     Quebec         QC   \n175                                     Westmount East     Quebec         QC   \n176                                  Tour de la Bourse     Quebec         QC   \n177                                                NaN        NaN        NaN   \n178                                                NaN        NaN        NaN   \n179                                        Pierrefonds     Quebec         QC   \n180                                                NaN        NaN        NaN   \n\n             county_name  county_code community_name  community_code  \\\n0                    NaN          NaN            NaN             NaN   \n1                    NaN          NaN            NaN             NaN   \n2                    NaN          NaN            NaN             NaN   \n3               Montreal          6.0            NaN             NaN   \n4    Notre-Dame-de-Gr\u00d4ce          NaN            NaN             NaN   \n5                  Place          NaN            NaN             NaN   \n6                    NaN          NaN            NaN             NaN   \n7                    NaN          NaN            NaN             NaN   \n8    Dollard-Des-Ormeaux          NaN            NaN             NaN   \n9                    NaN          NaN            NaN             NaN   \n10              Montreal          6.0            NaN             NaN   \n11              Ahuntsic          NaN            NaN             NaN   \n12              Montreal          6.0            NaN             NaN   \n13   Notre-Dame-de-Gr\u00d4ce          NaN            NaN             NaN   \n14                 Place          NaN            NaN             NaN   \n15                   NaN          NaN            NaN             NaN   \n16                   NaN          NaN            NaN             NaN   \n17   Dollard-Des-Ormeaux          NaN            NaN             NaN   \n18                   NaN          NaN            NaN             NaN   \n19                   NaN          NaN            NaN             NaN   \n20              Ahuntsic          NaN            NaN             NaN   \n21                   NaN          NaN            NaN             NaN   \n22                   NaN          NaN            NaN             NaN   \n23                   NaN          NaN            NaN             NaN   \n24                   NaN          NaN            NaN             NaN   \n25                   NaN          NaN            NaN             NaN   \n26                   NaN          NaN            NaN             NaN   \n27                   NaN          NaN            NaN             NaN   \n28                   NaN          NaN            NaN             NaN   \n29              Villeray          NaN            NaN             NaN   \n..                   ...          ...            ...             ...   \n151             Chomedey          NaN            NaN             NaN   \n152                  NaN          NaN            NaN             NaN   \n153             Montr\u00e9al          6.0   Beaconsfield         66107.0   \n154                  NaN          NaN            NaN             NaN   \n155             Rosemont          NaN            NaN             NaN   \n156  Plateau Mont-Royal           NaN            NaN             NaN   \n157             Montr\u00e9al          6.0      Hampstead         66062.0   \n158             Montreal          6.0            NaN             NaN   \n159                  NaN          NaN            NaN             NaN   \n160                  NaN          NaN            NaN             NaN   \n161                  NaN          NaN            NaN             NaN   \n162                  NaN          NaN            NaN             NaN   \n163                  NaN          NaN            NaN             NaN   \n164             Rosemont          NaN            NaN             NaN   \n165             Montreal          6.0            NaN             NaN   \n166             Montr\u00e9al          6.0      Westmount         66032.0   \n167                  NaN          NaN            NaN             NaN   \n168                  NaN          NaN            NaN             NaN   \n169                  NaN          NaN            NaN             NaN   \n170                  NaN          NaN            NaN             NaN   \n171                  NaN          NaN            NaN             NaN   \n172                  NaN          NaN            NaN             NaN   \n173                  NaN          NaN            NaN             NaN   \n174             Montreal          6.0            NaN             NaN   \n175             Montr\u00e9al          6.0      Westmount         66032.0   \n176                  NaN          NaN            NaN             NaN   \n177                  NaN          NaN            NaN             NaN   \n178                  NaN          NaN            NaN             NaN   \n179                  NaN          NaN            NaN             NaN   \n180                  NaN          NaN            NaN             NaN   \n\n     latitude  longitude  accuracy  \n0         NaN        NaN       NaN  \n1     45.6753   -73.5016       4.0  \n2     45.5618   -73.5990       6.0  \n3     45.5040   -73.5747       1.0  \n4     45.4717   -73.6149       1.0  \n5     45.4992   -73.5646       6.0  \n6     45.6739   -73.5924       1.0  \n7         NaN        NaN       NaN  \n8     45.4948   -73.8317       1.0  \n9         NaN        NaN       NaN  \n10    45.6320   -73.5075       4.0  \n11    45.5741   -73.6507       6.0  \n12    45.5005   -73.5684       1.0  \n13    45.4604   -73.6303       1.0  \n14    45.5066   -73.5623       NaN  \n15    45.6757   -73.6388       1.0  \n16        NaN        NaN       NaN  \n17    45.4897   -73.7958       1.0  \n18        NaN        NaN       NaN  \n19    45.6656   -73.5367       1.0  \n20    45.5606   -73.6584       6.0  \n21    45.4980   -73.5472       1.0  \n22    45.4737   -73.5882       4.0  \n23        NaN        NaN       NaN  \n24    45.6168   -73.6492       4.0  \n25        NaN        NaN       NaN  \n26    45.5055   -73.8789       1.0  \n27        NaN        NaN       NaN  \n28    45.6342   -73.5842       1.0  \n29    45.5514   -73.6116       6.0  \n..        ...        ...       ...  \n151   45.5338   -73.7652       1.0  \n152       NaN        NaN       NaN  \n153   45.4334   -73.8659       4.0  \n154       NaN        NaN       NaN  \n155   45.5583   -73.5701       1.0  \n156   45.5115   -73.5683       6.0  \n157   45.4819   -73.6421       4.0  \n158   45.4529   -73.6492       4.0  \n159       NaN        NaN       NaN  \n160   45.5334   -73.8159       4.0  \n161       NaN        NaN       NaN  \n162   45.4062   -73.9456       4.0  \n163       NaN        NaN       NaN  \n164   45.5486   -73.5788       1.0  \n165   45.5057   -73.5550       6.0  \n166   45.4876   -73.6045       1.0  \n167   45.8654   -72.7614       1.0  \n168       NaN        NaN       NaN  \n169   45.5284   -73.8509       1.0  \n170   45.5084   -73.8075       4.0  \n171       NaN        NaN       NaN  \n172       NaN        NaN       NaN  \n173   45.5694   -73.6221       1.0  \n174   45.5052   -73.5622       6.0  \n175   45.4825   -73.5933       1.0  \n176   45.5061   -73.5573       1.0  \n177       NaN        NaN       NaN  \n178       NaN        NaN       NaN  \n179   45.5069   -73.8407       1.0  \n180       NaN        NaN       NaN  \n\n[181 rows x 12 columns]"
                    },
                    "execution_count": 24,
                    "metadata": {},
                    "output_type": "execute_result"
                }
            ],
            "source": "nomi=pgeocode.Nominatim('ca')\nmtl_dirty_geo=nomi.query_postal_code(code_list)\nmtl_dirty_geo"
        },
        {
            "cell_type": "code",
            "execution_count": 25,
            "metadata": {},
            "outputs": [
                {
                    "data": {
                        "text/html": "<div>\n<style scoped>\n    .dataframe tbody tr th:only-of-type {\n        vertical-align: middle;\n    }\n\n    .dataframe tbody tr th {\n        vertical-align: top;\n    }\n\n    .dataframe thead th {\n        text-align: right;\n    }\n</style>\n<table border=\"1\" class=\"dataframe\">\n  <thead>\n    <tr style=\"text-align: right;\">\n      <th></th>\n      <th>Postalcode</th>\n      <th>Neighborhood</th>\n      <th>Latitude</th>\n      <th>Longitude</th>\n    </tr>\n  </thead>\n  <tbody>\n    <tr>\n      <th>0</th>\n      <td>H1A</td>\n      <td>Pointe-aux-Trembles</td>\n      <td>45.6753</td>\n      <td>-73.5016</td>\n    </tr>\n    <tr>\n      <th>1</th>\n      <td>H2A</td>\n      <td>Saint-Michel,East</td>\n      <td>45.5618</td>\n      <td>-73.5990</td>\n    </tr>\n    <tr>\n      <th>2</th>\n      <td>H3A</td>\n      <td>Downtown Montreal North(McGill University)</td>\n      <td>45.5040</td>\n      <td>-73.5747</td>\n    </tr>\n    <tr>\n      <th>3</th>\n      <td>H4A</td>\n      <td>Notre-Dame-de-Gr\u00e2ceNortheast</td>\n      <td>45.4717</td>\n      <td>-73.6149</td>\n    </tr>\n    <tr>\n      <th>4</th>\n      <td>H5A</td>\n      <td>Place Bonaventure</td>\n      <td>45.4992</td>\n      <td>-73.5646</td>\n    </tr>\n  </tbody>\n</table>\n</div>",
                        "text/plain": "  Postalcode                                Neighborhood  Latitude  Longitude\n0        H1A                         Pointe-aux-Trembles   45.6753   -73.5016\n1        H2A                           Saint-Michel,East   45.5618   -73.5990\n2        H3A  Downtown Montreal North(McGill University)   45.5040   -73.5747\n3        H4A                Notre-Dame-de-Gr\u00e2ceNortheast   45.4717   -73.6149\n4        H5A                           Place Bonaventure   45.4992   -73.5646"
                    },
                    "execution_count": 25,
                    "metadata": {},
                    "output_type": "execute_result"
                }
            ],
            "source": "#let's clean up our data\nmtl_dirty_geo.rename(columns={'postal_code':'Postalcode','latitude':'Latitude','longitude':'Longitude'},inplace=True)\nmtl_geo_ngh=pd.merge(mtl_dirty_geo,mtl_merge,on='Postalcode')\n#mtl_geo_ngh.head()\nmtl_clean_geo=mtl_geo_ngh[['Postalcode','Neighborhood','Latitude','Longitude']]\nmtl_clean_geo.head()"
        },
        {
            "cell_type": "code",
            "execution_count": 26,
            "metadata": {},
            "outputs": [],
            "source": "CLIENT_ID = 'MOPQ4QFVYDGEMYB3HYP53QUGJVSFDXOGYGZJHEUKL4UHCVQ0'\nCLIENT_SECRET = '0XMDVSZWEROJPZ0K2E14QH0IWMUMBUYBFP3KTSPGTUEUN0ZF'\nVERSION = '20180604'"
        },
        {
            "cell_type": "code",
            "execution_count": 27,
            "metadata": {},
            "outputs": [
                {
                    "name": "stdout",
                    "output_type": "stream",
                    "text": "done\n"
                }
            ],
            "source": "def NearbyVenues(names, latitudes, longitudes):\n    radius=500\n    LIMIT=100\n    venues_list=[]\n    for name, lat, lng in zip(names, latitudes, longitudes):\n        print(name)\n            \n        url = 'https://api.foursquare.com/v2/venues/explore?&client_id={}&client_secret={}&v={}&ll={},{}&radius={}&limit={}'.format(\n            CLIENT_ID, \n            CLIENT_SECRET, \n            VERSION, \n            lat, \n            lng, \n            radius, \n            LIMIT)\n            \n        results = requests.get(url).json()[\"response\"]['groups'][0]['items']\n        \n        venues_list.append([(\n            name, \n            lat, \n            lng, \n            v['venue']['name'], \n            v['venue']['location']['lat'], \n            v['venue']['location']['lng'],  \n            v['venue']['categories'][0]['name']) for v in results])\n\n    nearby_venues = pd.DataFrame([item for venue_list in venues_list for item in venue_list])\n    nearby_venues.columns = ['Neighborhood', \n                  'Neighborhood Latitude', \n                  'Neighborhood Longitude', \n                  'Venue', \n                  'Venue Latitude', \n                  'Venue Longitude', \n                  'Venue Category']\n    \n    return(nearby_venues)\nprint('done')"
        },
        {
            "cell_type": "code",
            "execution_count": 28,
            "metadata": {},
            "outputs": [
                {
                    "name": "stdout",
                    "output_type": "stream",
                    "text": "Pointe-aux-Trembles\nSaint-Michel,East\nDowntown Montreal North(McGill University)\nNotre-Dame-de-Gr\u00e2ceNortheast\nPlace Bonaventure\nDuvernay-Est\nDollard-des-OrmeauxNorthwest\nMontreal East\nAhuntsicNorth\nDowntown MontrealEast\nNotre-Dame-de-Gr\u00e2ceSouthwest\nPlace Desjardins\nSaint-Fran\u00e7ois\nDollard-des-OrmeauxEast\nRivi\u00e8re-des-PrairiesNortheast\nAhuntsicCentral\nGriffintown(Includes \u00cele Notre-Dame & \u00cele Sainte-H\u00e9l\u00e8ne)(Universit\u00e9 de Montr\u00e9al)\nSaint-Henri\nSaint-Vincent-de-Paul\nL'\u00cele-BizardNortheast\nRivi\u00e8re-des-PrairiesSouthwest\nVillerayNortheast\nL'\u00cele-Des-Soeurs\nVille \u00c9mard\nDuvernay\nL'\u00cele-BizardSouthwest\nMontr\u00e9al-NordNorth\nPetite-PatrieNortheast\nDowntown MontrealSoutheast (Concordia University)\nVerdunNorth\nPont-Viau\nDollard-des-OrmeauxSouthwest\nPlateau Mont-RoyalNorth\nDowntown MontrealSouthwest\nVerdunSouth\nAuteuilWest\n"
                },
                {
                    "ename": "KeyError",
                    "evalue": "'groups'",
                    "output_type": "error",
                    "traceback": [
                        "\u001b[0;31m---------------------------------------------------------------------------\u001b[0m",
                        "\u001b[0;31mKeyError\u001b[0m                                  Traceback (most recent call last)",
                        "\u001b[0;32m<ipython-input-28-80499c7579a9>\u001b[0m in \u001b[0;36m<module>\u001b[0;34m\u001b[0m\n\u001b[1;32m      1\u001b[0m venues=NearbyVenues(names=mtl_clean_geo['Neighborhood'],\n\u001b[1;32m      2\u001b[0m                    \u001b[0mlatitudes\u001b[0m\u001b[0;34m=\u001b[0m\u001b[0mmtl_clean_geo\u001b[0m\u001b[0;34m[\u001b[0m\u001b[0;34m'Latitude'\u001b[0m\u001b[0;34m]\u001b[0m\u001b[0;34m,\u001b[0m\u001b[0;34m\u001b[0m\u001b[0;34m\u001b[0m\u001b[0m\n\u001b[0;32m----> 3\u001b[0;31m                    \u001b[0mlongitudes\u001b[0m\u001b[0;34m=\u001b[0m\u001b[0mmtl_clean_geo\u001b[0m\u001b[0;34m[\u001b[0m\u001b[0;34m'Longitude'\u001b[0m\u001b[0;34m]\u001b[0m\u001b[0;34m\u001b[0m\u001b[0;34m\u001b[0m\u001b[0m\n\u001b[0m\u001b[1;32m      4\u001b[0m                    )\n\u001b[1;32m      5\u001b[0m \u001b[0mprint\u001b[0m\u001b[0;34m(\u001b[0m\u001b[0;34m'Done'\u001b[0m\u001b[0;34m)\u001b[0m\u001b[0;34m\u001b[0m\u001b[0;34m\u001b[0m\u001b[0m\n",
                        "\u001b[0;32m<ipython-input-27-9535ab0f043f>\u001b[0m in \u001b[0;36mNearbyVenues\u001b[0;34m(names, latitudes, longitudes)\u001b[0m\n\u001b[1;32m     15\u001b[0m             LIMIT)\n\u001b[1;32m     16\u001b[0m \u001b[0;34m\u001b[0m\u001b[0m\n\u001b[0;32m---> 17\u001b[0;31m         \u001b[0mresults\u001b[0m \u001b[0;34m=\u001b[0m \u001b[0mrequests\u001b[0m\u001b[0;34m.\u001b[0m\u001b[0mget\u001b[0m\u001b[0;34m(\u001b[0m\u001b[0murl\u001b[0m\u001b[0;34m)\u001b[0m\u001b[0;34m.\u001b[0m\u001b[0mjson\u001b[0m\u001b[0;34m(\u001b[0m\u001b[0;34m)\u001b[0m\u001b[0;34m[\u001b[0m\u001b[0;34m\"response\"\u001b[0m\u001b[0;34m]\u001b[0m\u001b[0;34m[\u001b[0m\u001b[0;34m'groups'\u001b[0m\u001b[0;34m]\u001b[0m\u001b[0;34m[\u001b[0m\u001b[0;36m0\u001b[0m\u001b[0;34m]\u001b[0m\u001b[0;34m[\u001b[0m\u001b[0;34m'items'\u001b[0m\u001b[0;34m]\u001b[0m\u001b[0;34m\u001b[0m\u001b[0;34m\u001b[0m\u001b[0m\n\u001b[0m\u001b[1;32m     18\u001b[0m \u001b[0;34m\u001b[0m\u001b[0m\n\u001b[1;32m     19\u001b[0m         venues_list.append([(\n",
                        "\u001b[0;31mKeyError\u001b[0m: 'groups'"
                    ]
                }
            ],
            "source": "venues=NearbyVenues(names=mtl_clean_geo['Neighborhood'],\n                   latitudes=mtl_clean_geo['Latitude'],\n                   longitudes=mtl_clean_geo['Longitude']\n                   )\nprint('Done')"
        },
        {
            "cell_type": "code",
            "execution_count": null,
            "metadata": {},
            "outputs": [],
            "source": ""
        },
        {
            "cell_type": "code",
            "execution_count": null,
            "metadata": {},
            "outputs": [],
            "source": ""
        }
    ],
    "metadata": {
        "kernelspec": {
            "display_name": "Python 3.6",
            "language": "python",
            "name": "python3"
        },
        "language_info": {
            "codemirror_mode": {
                "name": "ipython",
                "version": 3
            },
            "file_extension": ".py",
            "mimetype": "text/x-python",
            "name": "python",
            "nbconvert_exporter": "python",
            "pygments_lexer": "ipython3",
            "version": "3.6.9"
        }
    },
    "nbformat": 4,
    "nbformat_minor": 1
}